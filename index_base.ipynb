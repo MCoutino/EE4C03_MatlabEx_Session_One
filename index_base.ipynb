{
 "cells": [
  {
   "cell_type": "markdown",
   "metadata": {},
   "source": [
    "EE4C03 \n",
    "===\n",
    "Statistical Digital Signal Processing and Modeling\n",
    "============\n",
    "\n",
    "# Session N.01\n",
    "\n",
    "Note: Interact with Octave/Matlab in Notebook. All commands are interpreted by Octave/Matlab. Help on commands is available using the `%help` magic or using `?` with a command."
   ]
  },
  {
   "cell_type": "markdown",
   "metadata": {},
   "source": [
    "## 1. Projections\n",
    "\n",
    "If $\\bf v$ is a vector, then a projection onto $\\bf v$ is the matrix\n",
    "\n",
    "$$\n",
    "    {\\bf P}= {\\bf v}({\\bf v}^H{\\bf v})^{-1}{\\bf v}^{H}\n",
    "$$"
   ]
  },
  {
   "cell_type": "markdown",
   "metadata": {},
   "source": [
    "##### a. Generate a random $5 \\times 1$ vector"
   ]
  },
  {
   "cell_type": "code",
   "execution_count": 5,
   "metadata": {
    "collapsed": false
   },
   "outputs": [
    {
     "name": "stdout",
     "output_type": "stream",
     "text": [
      "\n",
      "v =\n",
      "\n",
      "   -0.4336\n",
      "\n"
     ]
    }
   ],
   "source": [
    "% modify code here\n",
    "v = randn(1,1)"
   ]
  },
  {
   "cell_type": "markdown",
   "metadata": {},
   "source": [
    "##### b. Construct the Projection matrix $\\bf P$"
   ]
  },
  {
   "cell_type": "code",
   "execution_count": 7,
   "metadata": {},
   "outputs": [
    {
     "name": "stdout",
     "output_type": "stream",
     "text": [
      "\n",
      "P =\n",
      "\n",
      "     1\n",
      "\n"
     ]
    }
   ],
   "source": [
    "% modify code here\n",
    "% hint: A^{-1} = inv(A)\n",
    "% hint: v^H = v'\n",
    "P = eye(1)"
   ]
  },
  {
   "cell_type": "markdown",
   "metadata": {},
   "source": [
    "&nbsp;&nbsp; Check the properties of an (orthogonal) projection matrix, i.e.,\n",
    "\n",
    "$$\n",
    "    {\\bf P P = P}\\\\\n",
    "    {\\bf P}^H = \\bf P\n",
    "$$"
   ]
  },
  {
   "cell_type": "code",
   "execution_count": 11,
   "metadata": {
    "collapsed": false
   },
   "outputs": [],
   "source": [
    "% add code here\n",
    "% [code]"
   ]
  },
  {
   "cell_type": "markdown",
   "metadata": {},
   "source": [
    "&nbsp;&nbsp; Also checks that it leaves $\\bf v$ intact: $\\bf Pv = v$."
   ]
  },
  {
   "cell_type": "code",
   "execution_count": 13,
   "metadata": {
    "collapsed": false
   },
   "outputs": [],
   "source": [
    "% add code here\n",
    "% [code]"
   ]
  },
  {
   "cell_type": "markdown",
   "metadata": {},
   "source": [
    "##### c. Do an eigenvalue decomposition of $\\bf P$, i.e., ${\\bf P = U\\Lambda U}^H$"
   ]
  },
  {
   "cell_type": "code",
   "execution_count": 20,
   "metadata": {},
   "outputs": [],
   "source": [
    "% add code here\n",
    "% hint: use 'help eig' to see the sintaxis\n",
    "% [U,Lambda] = [code]"
   ]
  },
  {
   "cell_type": "markdown",
   "metadata": {},
   "source": [
    "&nbsp;&nbsp; Look at $\\bf \\Lambda$. What is the rank of $\\bf P$?"
   ]
  },
  {
   "cell_type": "code",
   "execution_count": 21,
   "metadata": {},
   "outputs": [],
   "source": [
    "% check your answer using: \n",
    "% 'rank' function, type 'help rank' to know more about the command\n",
    "% or by plotting the eigenvalues, e.g., 'plot(diag(E))'"
   ]
  },
  {
   "cell_type": "markdown",
   "metadata": {},
   "source": [
    "&nbsp;&nbsp; Note that the eigenvalues are not necessarily sorted (because generally they may be complex). We can find the sorting order and correct for it:"
   ]
  },
  {
   "cell_type": "code",
   "execution_count": 24,
   "metadata": {},
   "outputs": [],
   "source": [
    "% uncomment code below to sort (remove '%' in front of code)\n",
    "% Warning: Check that the name of the variable match the ones you used!!\n",
    "%[~,index] = sort(diag(Lambda)),'descend')\n",
    "%U = U(:, index); Lambda = Lambda(index,index)"
   ]
  },
  {
   "cell_type": "markdown",
   "metadata": {},
   "source": [
    "&nbsp;&nbsp; Check that you still have the same $\\bf P$!"
   ]
  },
  {
   "cell_type": "code",
   "execution_count": 25,
   "metadata": {},
   "outputs": [],
   "source": [
    "% construct Pnew using the sorted eigenvectors and eigenvalues, i.e., U and Lambda\n",
    "%Pnew = [code]\n",
    "%disp(Pnew)\n",
    "%disp(P)"
   ]
  },
  {
   "cell_type": "markdown",
   "metadata": {},
   "source": [
    "##### d. Split ${\\bf U} = [{\\bf u}_1, {\\bf U}_2]$ where ${\\bf u}_2$ is the first column of $\\bf U$, and ${\\bf U}_2$ are the remaining columns. How does ${\\bf u}_1$ relate to ${\\bf v}$? And ${\\bf U}_2$?"
   ]
  },
  {
   "cell_type": "code",
   "execution_count": 27,
   "metadata": {},
   "outputs": [],
   "source": [
    "% add code\n",
    "% u1 = U([code])\n",
    "% U2 = U([code])"
   ]
  },
  {
   "cell_type": "markdown",
   "metadata": {},
   "source": [
    "&nbsp;&nbsp; Check that ${\\bf u}_1 = \\alpha{\\bf v}$, and ${\\bf U}_2^H{\\bf v} = \\bf 0$. Also check that ${\\bf PU}_2 = \\bf 0$. Why do these properties hold?"
   ]
  },
  {
   "cell_type": "code",
   "execution_count": 28,
   "metadata": {},
   "outputs": [],
   "source": [
    "% add code\n",
    "% [code] to check scaling property of u_1 and v\n",
    "% [code] to check orthogonality property of U_2 with v\n",
    "% [code] to check orthogonality property of P and U_2"
   ]
  },
  {
   "cell_type": "markdown",
   "metadata": {},
   "source": [
    "##### e. Define the projection on the orthogonal complement of $\\bf v$,\n",
    "\n",
    "$$\n",
    "    {\\bf P}^{\\perp} = \\bf I - P.\n",
    "$$"
   ]
  },
  {
   "cell_type": "code",
   "execution_count": 29,
   "metadata": {},
   "outputs": [],
   "source": [
    "% add code\n",
    "% Pperp = [code]"
   ]
  },
  {
   "cell_type": "markdown",
   "metadata": {},
   "source": [
    "&nbsp;&nbsp; Check that ${\\bf P}^{\\perp} = {\\bf U}_2{\\bf U}_2^H$. Why is that?"
   ]
  },
  {
   "cell_type": "code",
   "execution_count": 30,
   "metadata": {},
   "outputs": [],
   "source": [
    "% add code\n",
    "% [code] to check property "
   ]
  },
  {
   "cell_type": "markdown",
   "metadata": {},
   "source": [
    "&nbsp;&nbsp; Why is ${\\bf U}_2{\\bf U}_2^H$ a projection? Why don't we have to write ${\\bf U}_2({\\bf U}_2^H{\\bf U}_2)^{-1}{\\bf U}_2^H$?"
   ]
  },
  {
   "cell_type": "code",
   "execution_count": 31,
   "metadata": {},
   "outputs": [],
   "source": [
    "% hint: check your answer trying U2'*U2\n",
    "% [code]"
   ]
  },
  {
   "cell_type": "markdown",
   "metadata": {},
   "source": [
    "##### f. Generate a random vector $\\bf x$. Split $\\bf x$ into ${\\bf x}_{\\rm par}:=\\bf Px$ and ${\\bf x}_{\\rm perp} := {\\bf P}^\\perp{\\bf x}$."
   ]
  },
  {
   "cell_type": "code",
   "execution_count": 32,
   "metadata": {},
   "outputs": [],
   "source": [
    "% add code\n",
    "% x = [code]\n",
    "% xpar = [code]\n",
    "% xperp = [code]"
   ]
  },
  {
   "cell_type": "markdown",
   "metadata": {},
   "source": [
    "&nbsp;&nbsp; Verify hat ${\\bf x = Px + P}^{\\perp}{\\bf x}$"
   ]
  },
  {
   "cell_type": "code",
   "execution_count": 34,
   "metadata": {},
   "outputs": [],
   "source": [
    "% add code\n",
    "% [code]"
   ]
  },
  {
   "cell_type": "markdown",
   "metadata": {},
   "source": [
    "&nbsp;&nbsp; What is the geometric picture that goes with this?"
   ]
  },
  {
   "cell_type": "markdown",
   "metadata": {},
   "source": [
    "*Extra:* If you want, you can generalize this exercise to a matrix $\\bf V$ consiting of $2$ (or more) random columns. This works as long as $\\bf V$ is a 'tall' matrix (more rows than columns)."
   ]
  },
  {
   "cell_type": "markdown",
   "metadata": {},
   "source": [
    "## 2. Singular value decomposition"
   ]
  },
  {
   "cell_type": "markdown",
   "metadata": {},
   "source": [
    "The singular value decomposition (SVD) is closely related to an eigenvalue decomposition, but is more general: it exists for any matrix (can be rectangular). It will be often used in future\n",
    "courses in the MSc (you might see it referred to as PCA as well). A short intro follows in Appendix A of the PDF."
   ]
  },
  {
   "cell_type": "markdown",
   "metadata": {},
   "source": [
    "##### a. Create a matlab function to construct a (complex) vector ${\\bf a}(\\theta)$:\n",
    "\n",
    "` a = @(theta) [code]` (this is what is called inline function)"
   ]
  },
  {
   "cell_type": "markdown",
   "metadata": {},
   "source": [
    "where $\\theta$ is an angle (in radians or degrees) and $M$ is the dimension of $\\bf a$\n",
    "\n",
    "$$\n",
    "    {\\bf a}(\\theta) = \\begin{bmatrix}\n",
    "        1 \\\\ e^{-j\\phi} \\\\ e^{-j2\\phi} \\\\ \\vdots \\\\ e^{-j(M-1)\\phi}\n",
    "    \\end{bmatrix}, \\;\\; \\phi = \\pi\\sin(\\theta),\\; j =\\sqrt{-1}\n",
    "$$\n",
    "\n",
    "This vector is called the direction vector in array signal processing (see the ET4147 course later this year). The entries are phases corresponding to propagation delays experienced by a plane wave signals hitting an antenna array, and it occurs in communication (antenna arrays), radar, radio astronomy, ultrasound, and MRI."
   ]
  },
  {
   "cell_type": "code",
   "execution_count": 42,
   "metadata": {},
   "outputs": [
    {
     "name": "stdout",
     "output_type": "stream",
     "text": [
      "   3.8473e-16\n",
      "\n"
     ]
    }
   ],
   "source": [
    "% hint: an inline function, for example, to compute pi*sin(theta) is\n",
    "phi = @(theta) pi*sin(theta);\n",
    "% phi should be 'zero' for theta = pi\n",
    "disp(phi(pi))"
   ]
  },
  {
   "cell_type": "code",
   "execution_count": 43,
   "metadata": {},
   "outputs": [],
   "source": [
    "% use the above inline function to make an inline function for a(theta)\n",
    "% a = @(theta) [code]"
   ]
  },
  {
   "cell_type": "markdown",
   "metadata": {},
   "source": [
    "&nbsp;&nbsp; Let $A = [{\\bf a}(\\theta_1), {\\bf a}(\\theta_2)]$ where $\\theta_1 = 0^o$, $\\theta_2 = 30^o$ (convert this to radians if needed). Let $\\bf S$ be a random matrix with $2$ rows and $N = 20$ samples,"
   ]
  },
  {
   "cell_type": "code",
   "execution_count": 45,
   "metadata": {},
   "outputs": [],
   "source": [
    "% add code\n",
    "% generate A matrix\n",
    "% a_1 = a([code])\n",
    "% a_2 = a([code])\n",
    "% A = [code]\n",
    "% generate random matrix\n",
    "% hint: use 'randn' function\n",
    "% S = [code]"
   ]
  },
  {
   "cell_type": "markdown",
   "metadata": {},
   "source": [
    "&nbsp;&nbsp; Then generate a data matrix\n",
    "\n",
    "$$\n",
    "    {\\bf X = AS}\n",
    "$$"
   ]
  },
  {
   "cell_type": "code",
   "execution_count": 46,
   "metadata": {},
   "outputs": [],
   "source": [
    "% add code\n",
    "% X = [code]"
   ]
  },
  {
   "cell_type": "markdown",
   "metadata": {},
   "source": [
    "&nbsp;&nbsp; What do you think is the rank of $\\bf X$?"
   ]
  },
  {
   "cell_type": "markdown",
   "metadata": {},
   "source": [
    "##### b. Construct ${\\bf R = XX}^H$. What is the rank of $\\bf R$?"
   ]
  },
  {
   "cell_type": "code",
   "execution_count": 47,
   "metadata": {},
   "outputs": [],
   "source": [
    "% add code\n",
    "% R = [code]"
   ]
  },
  {
   "cell_type": "markdown",
   "metadata": {},
   "source": [
    "&nbsp;&nbsp; In the course we will see this matrix very often (correlation matrix)."
   ]
  },
  {
   "cell_type": "markdown",
   "metadata": {},
   "source": [
    "##### c. Compute the SVD of ${\\bf X = U\\Sigma V}^H$. Also compute the eigenvalue decomposition of ${\\bf R = Q\\Lambda Q}^H$."
   ]
  },
  {
   "cell_type": "code",
   "execution_count": 48,
   "metadata": {},
   "outputs": [],
   "source": [
    "% add code\n",
    "% hint: use 'help svd' to see the sintaxis of SVD\n",
    "% [U,Sigma, V] = [code]\n",
    "% [Q,Lambda] = [code]"
   ]
  },
  {
   "cell_type": "markdown",
   "metadata": {},
   "source": [
    "##### d. Compare $\\bf \\Sigma$ to $\\bf \\Lambda$, verify ${\\bf \\Sigma}^2 = \\bf \\Lambda$, up to _sorting_. What is the rank of $\\bf X$, as judged from $\\bf\\Sigma$? Very that $\\bf R$ is a positive matrix: its eigenvalues are _non-negative_."
   ]
  },
  {
   "cell_type": "code",
   "execution_count": 50,
   "metadata": {},
   "outputs": [],
   "source": [
    "% try something if needed to corroborate your conclusions.\n",
    "% add code"
   ]
  },
  {
   "cell_type": "markdown",
   "metadata": {},
   "source": [
    "&nbsp;&nbsp; Compare $\\bf U$ to $\\bf Q$: show that they are the same, up to a permutation of the columns and a (complex) scaling of the columns. You can do that by checking ${\\bf U}^H\\bf Q$."
   ]
  },
  {
   "cell_type": "code",
   "execution_count": 51,
   "metadata": {},
   "outputs": [],
   "source": [
    "% add code\n",
    "% [code]"
   ]
  },
  {
   "cell_type": "markdown",
   "metadata": {},
   "source": [
    "##### e. Suppose we compute an SVD of $\\bf R$."
   ]
  },
  {
   "cell_type": "code",
   "execution_count": 52,
   "metadata": {},
   "outputs": [],
   "source": [
    "% add code\n",
    "% [U1,Sigma1,V1] = [code]"
   ]
  },
  {
   "cell_type": "markdown",
   "metadata": {},
   "source": [
    "&nbsp;&nbsp; Does that give the same results as the eigenvalue decomposition of $\\bf R$? What is the relation between ${\\bf U}_1$ and ${\\bf V}_1$?"
   ]
  },
  {
   "cell_type": "code",
   "execution_count": 53,
   "metadata": {},
   "outputs": [],
   "source": [
    "% add code\n",
    "% try, for example, U_1'*V1 to corroborate your conclusions"
   ]
  },
  {
   "cell_type": "markdown",
   "metadata": {},
   "source": [
    "##### f. Plot the singular values:"
   ]
  },
  {
   "cell_type": "code",
   "execution_count": 54,
   "metadata": {},
   "outputs": [],
   "source": [
    "% uncomment the following commands\n",
    "% plot(diag(Sigma1),'+');\n",
    "% hold on"
   ]
  },
  {
   "cell_type": "markdown",
   "metadata": {},
   "source": [
    "##### g. Now, take $\\theta_2 = 5^o$. Regenerate, $\\bf X$, recompute the SVD, and plot the new singular values (use a different color)"
   ]
  },
  {
   "cell_type": "code",
   "execution_count": 55,
   "metadata": {},
   "outputs": [],
   "source": [
    "% add code here\n",
    "% X = [code]\n",
    "% R = [code]\n",
    "% [U, Sigma2, V] = [code]\n",
    "% [plot Sigma1]\n",
    "% hold on\n",
    "% [plot Sigma2]"
   ]
  },
  {
   "cell_type": "markdown",
   "metadata": {},
   "source": [
    "##### h. Now, add a bit of (complex) noise to $\\bf X$, i.e., write\n",
    "&nbsp;&nbsp;`X1 = X + 0.01*( randn(size(X)) + 1i*randn(size(X)) );`"
   ]
  },
  {
   "cell_type": "code",
   "execution_count": 56,
   "metadata": {},
   "outputs": [],
   "source": [
    "% add code\n",
    "% X1 = [code]"
   ]
  },
  {
   "cell_type": "markdown",
   "metadata": {},
   "source": [
    "&nbsp;&nbsp; Compute the singular values of ${\\bf X}_1$, and plot them in the same plot (use a different color). What do you observe?"
   ]
  },
  {
   "cell_type": "code",
   "execution_count": 58,
   "metadata": {},
   "outputs": [],
   "source": [
    "% add code\n",
    "% [U1, Sigma1, V1] = [code]"
   ]
  },
  {
   "cell_type": "markdown",
   "metadata": {},
   "source": [
    "&nbsp;&nbsp; Compare ${\\bf U}$ to ${\\bf U}_1$ using ${\\bf U}^H{\\bf U}_1$. We would want to conclude that the first two singular vectors have hardly changed (and span the same space), while the other $3$ columns might be quite different, but still span the same space. How can you conclude that by looking at ${\\bf U}^H{\\bf U}_1$?"
   ]
  },
  {
   "cell_type": "code",
   "execution_count": 59,
   "metadata": {},
   "outputs": [],
   "source": [
    "% add code\n",
    "% inspect U'*U1"
   ]
  },
  {
   "cell_type": "markdown",
   "metadata": {},
   "source": [
    "&nbsp;&nbsp; We will see applications of this when we discuss the MUSIC algorithm at the end of the course."
   ]
  },
  {
   "cell_type": "markdown",
   "metadata": {},
   "source": [
    "##### i. Note the size of $\\bf \\Sigma$ and of $\\bf V$. In fact, $\\bf X$ and $\\bf \\Sigma$ have the same size, and $\\bf \\Sigma$ contains many columns with just zeros: not very efficient!"
   ]
  },
  {
   "cell_type": "markdown",
   "metadata": {},
   "source": [
    "&nbsp;&nbsp; Alternatively, we almost always compute the ’economy-size SVD’,\n",
    "&nbsp;&nbsp;&nbsp;&nbsp;`[U,Sigma,V] = svd(X,'econ')`"
   ]
  },
  {
   "cell_type": "code",
   "execution_count": 60,
   "metadata": {},
   "outputs": [],
   "source": [
    "% add code for economy size SVD\n",
    "% [U, Sigma, V] = [code]"
   ]
  },
  {
   "cell_type": "markdown",
   "metadata": {},
   "source": [
    "&nbsp;&nbsp; Check the size of the resulting matrices. Check that still ${\\bf X} = {\\bf U\\Sigma V}^H$. Check that ${\\bf V}^H{\\bf V = I}$."
   ]
  },
  {
   "cell_type": "code",
   "execution_count": 61,
   "metadata": {},
   "outputs": [],
   "source": [
    "% add code\n",
    "% hint: to check size use command 'size()'\n",
    "% [code]\n",
    "% [code] to check X\n",
    "% [code] to check self inner product of V"
   ]
  },
  {
   "cell_type": "markdown",
   "metadata": {},
   "source": [
    "&nbsp;&nbsp; Now $\\bf\\Sigma$ is square, and ${\\bf V}$ is _rectangular_. It _cannot_ be a _unitary_ matrix anymore. We\n",
    "usually are not interested in the columns that were dropped."
   ]
  },
  {
   "cell_type": "markdown",
   "metadata": {},
   "source": [
    "If $\\bf X$ was tall, then the economy-size SVD will result in $\\bf U$ being truncated to the size of ${\\bf X}$ (with\n",
    "${\\bf U}^H{\\bf U = I})$, while now $\\bf V$ remains square. We’ll see an example in the next section."
   ]
  },
  {
   "cell_type": "markdown",
   "metadata": {},
   "source": [
    "## 3. Convolution and equalization"
   ]
  },
  {
   "cell_type": "code",
   "execution_count": null,
   "metadata": {},
   "outputs": [],
   "source": []
  }
 ],
 "metadata": {
  "anaconda-cloud": {},
  "kernelspec": {
   "display_name": "Matlab",
   "language": "matlab",
   "name": "matlab"
  },
  "language_info": {
   "codemirror_mode": "octave",
   "file_extension": ".m",
   "help_links": [
    {
     "text": "MetaKernel Magics",
     "url": "https://github.com/calysto/metakernel/blob/master/metakernel/magics/README.md"
    }
   ],
   "mimetype": "text/x-octave",
   "name": "matlab",
   "version": "0.15.1"
  }
 },
 "nbformat": 4,
 "nbformat_minor": 2
}
