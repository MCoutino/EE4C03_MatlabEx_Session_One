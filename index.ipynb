{
 "cells": [
  {
   "cell_type": "markdown",
   "metadata": {},
   "source": [
    "EE4C03 \n",
    "===\n",
    "Statistical Digital Signal Processing and Modeling\n",
    "============\n",
    "\n",
    "# Session N.01\n",
    "\n",
    "Note: Interact with Octave/Matlab in Notebook. All commands are interpreted by Octave/Matlab. Help on commands is available using the `%help` magic or using `?` with a command."
   ]
  },
  {
   "cell_type": "markdown",
   "metadata": {},
   "source": [
    "## 1. Projections\n",
    "\n",
    "If $\\bf v$ is a vector, then a projection onto $\\bf v$ is the matrix\n",
    "\n",
    "$$\n",
    "    {\\bf P}= {\\bf v}({\\bf v}^H{\\bf v})^{-1}{\\bf v}^{H}\n",
    "$$"
   ]
  },
  {
   "cell_type": "markdown",
   "metadata": {},
   "source": [
    "##### a. Generate a random $5 \\times 1$ vector"
   ]
  },
  {
   "cell_type": "code",
   "execution_count": 5,
   "metadata": {
    "collapsed": false
   },
   "outputs": [
    {
     "name": "stdout",
     "output_type": "stream",
     "text": [
      "\n",
      "v =\n",
      "\n",
      "   -0.4336\n",
      "\n"
     ]
    }
   ],
   "source": [
    "% modify code here\n",
    "v = randn(1,1)"
   ]
  },
  {
   "cell_type": "markdown",
   "metadata": {},
   "source": [
    "##### b. Construct the Projection matrix $\\bf P$"
   ]
  },
  {
   "cell_type": "code",
   "execution_count": 7,
   "metadata": {},
   "outputs": [
    {
     "name": "stdout",
     "output_type": "stream",
     "text": [
      "\n",
      "P =\n",
      "\n",
      "     1\n",
      "\n"
     ]
    }
   ],
   "source": [
    "% modify code here\n",
    "% hint: A^{-1} = inv(A)\n",
    "% hint: v^H = v'\n",
    "P = eye(1)"
   ]
  },
  {
   "cell_type": "markdown",
   "metadata": {},
   "source": [
    "&nbsp;&nbsp; Check the properties of an (orthogonal) projection matrix, i.e.,\n",
    "\n",
    "$$\n",
    "    {\\bf P P = P}\\\\\n",
    "    {\\bf P}^H = \\bf P\n",
    "$$"
   ]
  },
  {
   "cell_type": "code",
   "execution_count": 11,
   "metadata": {
    "collapsed": false
   },
   "outputs": [],
   "source": [
    "% add code here\n",
    "% [code]"
   ]
  },
  {
   "cell_type": "markdown",
   "metadata": {},
   "source": [
    "&nbsp;&nbsp; Also checks that it leaves $\\bf v$ intact: $\\bf Pv = v$."
   ]
  },
  {
   "cell_type": "code",
   "execution_count": 13,
   "metadata": {
    "collapsed": false
   },
   "outputs": [],
   "source": [
    "% add code here\n",
    "% [code]"
   ]
  },
  {
   "cell_type": "markdown",
   "metadata": {},
   "source": [
    "##### c. Do an eigenvalue decomposition of $\\bf P$, i.e., ${\\bf P = U\\Lambda U}^H$"
   ]
  },
  {
   "cell_type": "code",
   "execution_count": 20,
   "metadata": {},
   "outputs": [],
   "source": [
    "% add code here\n",
    "% hint: use 'help eig' to see the sintaxis\n",
    "% [U,Lambda] = [code]"
   ]
  },
  {
   "cell_type": "markdown",
   "metadata": {},
   "source": [
    "&nbsp;&nbsp; Look at $\\bf \\Lambda$. What is the rank of $\\bf P$?"
   ]
  },
  {
   "cell_type": "code",
   "execution_count": 21,
   "metadata": {},
   "outputs": [],
   "source": [
    "% check your answer using: \n",
    "% 'rank' function, type 'help rank' to know more about the command\n",
    "% or by plotting the eigenvalues, e.g., 'plot(diag(E))'"
   ]
  },
  {
   "cell_type": "markdown",
   "metadata": {},
   "source": [
    "&nbsp;&nbsp; Note that the eigenvalues are not necessarily sorted (because generally they may be complex). We can find the sorting order and correct for it:"
   ]
  },
  {
   "cell_type": "code",
   "execution_count": 24,
   "metadata": {},
   "outputs": [],
   "source": [
    "% uncomment code below to sort (remove '%' in front of code)\n",
    "% Warning: Check that the name of the variable match the ones you used!!\n",
    "%[~,index] = sort(diag(Lambda)),'descend')\n",
    "%U = U(:, index); Lambda = Lambda(index,index)"
   ]
  },
  {
   "cell_type": "markdown",
   "metadata": {},
   "source": [
    "&nbsp;&nbsp; Check that you still have the same $\\bf P$!"
   ]
  },
  {
   "cell_type": "code",
   "execution_count": 25,
   "metadata": {},
   "outputs": [],
   "source": [
    "% construct Pnew using the sorted eigenvectors and eigenvalues, i.e., U and Lambda\n",
    "%Pnew = [code]\n",
    "%disp(Pnew)\n",
    "%disp(P)"
   ]
  },
  {
   "cell_type": "markdown",
   "metadata": {},
   "source": [
    "##### d. Split ${\\bf U} = [{\\bf u}_1, {\\bf U}_2]$ where ${\\bf u}_2$ is the first column of $\\bf U$, and ${\\bf U}_2$ are the remaining columns. How does ${\\bf u}_1$ relate to ${\\bf v}$? And ${\\bf U}_2$?"
   ]
  },
  {
   "cell_type": "code",
   "execution_count": 27,
   "metadata": {},
   "outputs": [],
   "source": [
    "% add code\n",
    "% u1 = U([code])\n",
    "% U2 = U([code])"
   ]
  },
  {
   "cell_type": "markdown",
   "metadata": {},
   "source": [
    "&nbsp;&nbsp; Check that ${\\bf u}_1 = \\alpha{\\bf v}$, and ${\\bf U}_2^H{\\bf v} = \\bf 0$. Also check that ${\\bf PU}_2 = \\bf 0$. Why do these properties hold?"
   ]
  },
  {
   "cell_type": "code",
   "execution_count": 28,
   "metadata": {},
   "outputs": [],
   "source": [
    "% add code\n",
    "% [code] to check scaling property of u_1 and v\n",
    "% [code] to check orthogonality property of U_2 with v\n",
    "% [code] to check orthogonality property of P and U_2"
   ]
  },
  {
   "cell_type": "markdown",
   "metadata": {},
   "source": [
    "##### e. Define the projection on the orthogonal complement of $\\bf v$,\n",
    "\n",
    "$$\n",
    "    {\\bf P}^{\\perp} = \\bf I - P.\n",
    "$$"
   ]
  },
  {
   "cell_type": "code",
   "execution_count": 29,
   "metadata": {},
   "outputs": [],
   "source": [
    "% add code\n",
    "% Pperp = [code]"
   ]
  },
  {
   "cell_type": "markdown",
   "metadata": {},
   "source": [
    "&nbsp;&nbsp; Check that ${\\bf P}^{\\perp} = {\\bf U}_2{\\bf U}_2^H$. Why is that?"
   ]
  },
  {
   "cell_type": "code",
   "execution_count": 30,
   "metadata": {},
   "outputs": [],
   "source": [
    "% add code\n",
    "% [code] to check property "
   ]
  },
  {
   "cell_type": "markdown",
   "metadata": {},
   "source": [
    "&nbsp;&nbsp; Why is ${\\bf U}_2{\\bf U}_2^H$ a projection? Why don't we have to write ${\\bf U}_2({\\bf U}_2^H{\\bf U}_2)^{-1}{\\bf U}_2^H$?"
   ]
  },
  {
   "cell_type": "code",
   "execution_count": 31,
   "metadata": {},
   "outputs": [],
   "source": [
    "% hint: check your answer trying U2'*U2\n",
    "% [code]"
   ]
  },
  {
   "cell_type": "markdown",
   "metadata": {},
   "source": [
    "##### f. Generate a random vector $\\bf x$. Split $\\bf x$ into ${\\bf x}_{\\rm par}:=\\bf Px$ and ${\\bf x}_{\\rm perp} := {\\bf P}^\\perp{\\bf x}$."
   ]
  },
  {
   "cell_type": "code",
   "execution_count": 32,
   "metadata": {},
   "outputs": [],
   "source": [
    "% add code\n",
    "% x = [code]\n",
    "% xpar = [code]\n",
    "% xperp = [code]"
   ]
  },
  {
   "cell_type": "markdown",
   "metadata": {},
   "source": [
    "&nbsp;&nbsp; Verify hat ${\\bf x = Px + P}^{\\perp}{\\bf x}$"
   ]
  },
  {
   "cell_type": "code",
   "execution_count": 34,
   "metadata": {},
   "outputs": [],
   "source": [
    "% add code\n",
    "% [code]"
   ]
  },
  {
   "cell_type": "markdown",
   "metadata": {},
   "source": [
    "&nbsp;&nbsp; What is the geometric picture that goes with this?"
   ]
  },
  {
   "cell_type": "markdown",
   "metadata": {},
   "source": [
    "*Extra:* If you want, you can generalize this exercise to a matrix $\\bf V$ consiting of $2$ (or more) random columns. This works as long as $\\bf V$ is a 'tall' matrix (more rows than columns)."
   ]
  },
  {
   "cell_type": "code",
   "execution_count": null,
   "metadata": {},
   "outputs": [],
   "source": []
  }
 ],
 "metadata": {
  "anaconda-cloud": {},
  "kernelspec": {
   "display_name": "Matlab",
   "language": "matlab",
   "name": "matlab"
  },
  "language_info": {
   "codemirror_mode": "octave",
   "file_extension": ".m",
   "help_links": [
    {
     "text": "MetaKernel Magics",
     "url": "https://github.com/calysto/metakernel/blob/master/metakernel/magics/README.md"
    }
   ],
   "mimetype": "text/x-octave",
   "name": "matlab",
   "version": "0.15.1"
  }
 },
 "nbformat": 4,
 "nbformat_minor": 2
}
